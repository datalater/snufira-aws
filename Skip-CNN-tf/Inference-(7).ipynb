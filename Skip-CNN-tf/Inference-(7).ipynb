{
 "cells": [
  {
   "cell_type": "code",
   "execution_count": 1,
   "metadata": {
    "collapsed": true
   },
   "outputs": [],
   "source": [
    "# -*- coding: utf-8 -*-\n",
    "\n",
    "import vocab as vc\n",
    "import data_helpers as dh\n",
    "import data_helpers_yk as dh_yk\n",
    "import custom_loss as cl\n",
    "\n",
    "from collections import Counter\n",
    "from gensim.models import Word2Vec\n",
    "import tensorflow as tf\n",
    "import numpy as np\n",
    "from tensorflow.contrib import learn"
   ]
  },
  {
   "cell_type": "code",
   "execution_count": 2,
   "metadata": {},
   "outputs": [
    {
     "name": "stdout",
     "output_type": "stream",
     "text": [
      "# [corpusToLines_vocab.txt] is loaded as [vocab].\n"
     ]
    }
   ],
   "source": [
    "vocab_filename = 'corpusToLines_vocab.txt'\n",
    "vocab = vc.load_doc(vocab_filename)\n",
    "vocab = vocab.split()\n",
    "vocab = set(vocab)\n",
    "print(\"# [{}] is loaded as [vocab].\".format(vocab_filename))"
   ]
  },
  {
   "cell_type": "markdown",
   "metadata": {},
   "source": [
    "## Benchmark data pre-processing"
   ]
  },
  {
   "cell_type": "code",
   "execution_count": 3,
   "metadata": {
    "collapsed": true
   },
   "outputs": [],
   "source": [
    "# MR path flags\n",
    "MR_pos = \"../data/rt-polaritydata/rt-polarity.pos\"\n",
    "MR_neg = \"../data/rt-polaritydata/rt-polarity.neg\""
   ]
  },
  {
   "cell_type": "code",
   "execution_count": 4,
   "metadata": {
    "collapsed": true
   },
   "outputs": [],
   "source": [
    "# benchmark 데이터를 x_data로 변환하기\n",
    "x_data, y_data = dh_yk.load_data_and_labels(MR_pos, MR_neg)\n",
    "y_data = np.argmax(y_data, axis=1)"
   ]
  },
  {
   "cell_type": "code",
   "execution_count": 5,
   "metadata": {
    "collapsed": true
   },
   "outputs": [],
   "source": [
    "vocab_path = \"vocab_processor\"\n",
    "vocab_processor = learn.preprocessing.VocabularyProcessor.restore(vocab_path)\n",
    "x_test = np.array(list(vocab_processor.transform(x_data)))"
   ]
  },
  {
   "cell_type": "code",
   "execution_count": 6,
   "metadata": {},
   "outputs": [
    {
     "data": {
      "text/plain": [
       "62"
      ]
     },
     "execution_count": 6,
     "metadata": {},
     "output_type": "execute_result"
    }
   ],
   "source": [
    "len(x_test[0])"
   ]
  },
  {
   "cell_type": "markdown",
   "metadata": {},
   "source": [
    "## word vector loading"
   ]
  },
  {
   "cell_type": "code",
   "execution_count": 7,
   "metadata": {},
   "outputs": [
    {
     "name": "stdout",
     "output_type": "stream",
     "text": [
      "# [./fantasy_embedding_word2vec.txt] is successfully loaded!\n",
      "# embedding vocabulary size: 10065\n"
     ]
    }
   ],
   "source": [
    "def load_word2vec(filename):\n",
    "    vocab = []\n",
    "    embd = []\n",
    "    file = open(filename,'r')\n",
    "    lines = file.readlines()[1:]\n",
    "    for line in lines:\n",
    "        row = line.strip().split(' ')\n",
    "        vocab.append(row[0])\n",
    "        embd.append(row[1:])\n",
    "    print('# [{}] is successfully loaded!'.format(filename))\n",
    "    file.close()\n",
    "    return vocab,embd\n",
    "\n",
    "filename = './fantasy_embedding_word2vec.txt'\n",
    "vocab,embd = load_word2vec(filename)\n",
    "vocab_size = len(vocab)\n",
    "embedding_dim = len(embd[0])\n",
    "embedding = np.asarray(embd)\n",
    "print(\"# embedding vocabulary size: {}\".format(len(embedding)))"
   ]
  },
  {
   "cell_type": "markdown",
   "metadata": {},
   "source": [
    "## Benchmark data forwarding"
   ]
  },
  {
   "cell_type": "code",
   "execution_count": 8,
   "metadata": {
    "collapsed": true
   },
   "outputs": [],
   "source": [
    "sequence_length = 62\n",
    "wv_sz = 100\n",
    "\n",
    "input_x = tf.placeholder(tf.int32, [None, sequence_length], name=\"input_x\")\n",
    "tf_embedding = tf.constant(embedding, dtype=tf.float32)\n",
    "\n",
    "embedded_chars = tf.nn.embedding_lookup(tf_embedding, input_x) \n",
    "embedded_chars_expanded = tf.expand_dims(embedded_chars, -1) \n",
    "\n",
    "filter_sizes = [3, 4, 5]\n",
    "num_filters = 128\n",
    "\n",
    "pooled_outputs = []\n",
    "for i, filter_size in enumerate(filter_sizes):\n",
    "    with tf.name_scope(\"conv-maxpool-%s\" % filter_size):\n",
    "        # Convolution Layer\n",
    "        filter_shape = [filter_size, wv_sz, 1, num_filters]\n",
    "        W = tf.Variable(tf.truncated_normal(filter_shape, stddev=0.1), name=\"conv_W\")\n",
    "        b = tf.Variable(tf.constant(0.1, shape=[num_filters]), name=\"conv_b\")\n",
    "        conv = tf.nn.conv2d(\n",
    "            embedded_chars_expanded,\n",
    "            W,\n",
    "            strides=[1, 1, 1, 1],\n",
    "            padding=\"VALID\",\n",
    "            name=\"conv\")\n",
    "        # Apply nonlinearity\n",
    "        h = tf.nn.relu(tf.nn.bias_add(conv, b), name=\"relu\")\n",
    "        # Max-pooling over the outputs\n",
    "        pooled = tf.nn.max_pool(\n",
    "            h,\n",
    "            ksize=[1, sequence_length - filter_size + 1, 1, 1],\n",
    "            strides=[1, 1, 1, 1],\n",
    "            padding='VALID',\n",
    "            name=\"pool\")\n",
    "        pooled_outputs.append(pooled)\n",
    "\n",
    "num_filters_total = num_filters * len(filter_sizes)\n",
    "h_pool = tf.concat( pooled_outputs, 3)\n",
    "h_pool_flat = tf.reshape(h_pool, [-1, num_filters_total])\n",
    "\n",
    "cnn_output = h_pool_flat"
   ]
  },
  {
   "cell_type": "code",
   "execution_count": 9,
   "metadata": {},
   "outputs": [
    {
     "data": {
      "text/plain": [
       "<tf.Tensor 'Reshape:0' shape=(?, 384) dtype=float32>"
      ]
     },
     "execution_count": 9,
     "metadata": {},
     "output_type": "execute_result"
    }
   ],
   "source": [
    "cnn_output"
   ]
  },
  {
   "cell_type": "code",
   "execution_count": 12,
   "metadata": {},
   "outputs": [
    {
     "name": "stdout",
     "output_type": "stream",
     "text": [
      "INFO:tensorflow:Restoring parameters from ./logs/model3.ckpt\n",
      "모델 불러오기 성공\n",
      "cnn_output_val 생성 완료\n"
     ]
    }
   ],
   "source": [
    "saver = tf.train.Saver()\n",
    "sess = tf.Session()\n",
    "saver.restore(sess, \"./logs/model3.ckpt\")\n",
    "# sess.run(tf.global_variables_initializer())\n",
    "print(\"모델 불러오기 성공\")\n",
    "\n",
    "batch_size = 32\n",
    "\n",
    "for i in range(0, len(x_test), batch_size):\n",
    "    x_batch = x_test[i:i+batch_size]\n",
    "\n",
    "    cnn_output_val = sess.run([cnn_output], \n",
    "                            feed_dict={input_x: x_test})\n",
    "\n",
    "print(\"cnn_output_val 생성 완료\")"
   ]
  },
  {
   "cell_type": "code",
   "execution_count": 13,
   "metadata": {},
   "outputs": [
    {
     "name": "stdout",
     "output_type": "stream",
     "text": [
      "[array([[2.2277083e+00, 0.0000000e+00, 7.1619436e-02, ..., 3.6095488e+00,\n",
      "        1.5604650e+00, 0.0000000e+00],\n",
      "       [2.2295709e+00, 0.0000000e+00, 6.4765237e-02, ..., 3.6444957e+00,\n",
      "        1.5776744e+00, 0.0000000e+00],\n",
      "       [2.2188148e+00, 0.0000000e+00, 0.0000000e+00, ..., 3.5315635e+00,\n",
      "        1.4621205e+00, 0.0000000e+00],\n",
      "       ...,\n",
      "       [2.2246110e+00, 4.3256015e-02, 7.5296961e-02, ..., 3.6486440e+00,\n",
      "        1.5819114e+00, 0.0000000e+00],\n",
      "       [2.2278743e+00, 2.9837713e-03, 3.0418903e-02, ..., 3.5315635e+00,\n",
      "        1.4621205e+00, 0.0000000e+00],\n",
      "       [2.2269096e+00, 0.0000000e+00, 7.0705257e-02, ..., 3.6415527e+00,\n",
      "        1.5770420e+00, 0.0000000e+00]], dtype=float32)]\n"
     ]
    }
   ],
   "source": [
    "print(cnn_output_val)"
   ]
  },
  {
   "cell_type": "code",
   "execution_count": 14,
   "metadata": {
    "collapsed": true
   },
   "outputs": [],
   "source": [
    "import _pickle as cPickle\n",
    "with open('cnn_output_val.pkl', 'wb') as f:\n",
    "    cPickle.dump(cnn_output_val, f)"
   ]
  },
  {
   "cell_type": "code",
   "execution_count": 33,
   "metadata": {},
   "outputs": [],
   "source": [
    "with open('cnn_output_val.pkl', 'rb') as f:\n",
    "    cnn_output_val = cPickle.load(f)"
   ]
  },
  {
   "cell_type": "code",
   "execution_count": 34,
   "metadata": {
    "collapsed": true
   },
   "outputs": [],
   "source": [
    "cnn_output_val = np.asarray(cnn_output_val)"
   ]
  },
  {
   "cell_type": "code",
   "execution_count": 35,
   "metadata": {},
   "outputs": [
    {
     "data": {
      "text/plain": [
       "(1, 10662, 384)"
      ]
     },
     "execution_count": 35,
     "metadata": {},
     "output_type": "execute_result"
    }
   ],
   "source": [
    "cnn_output_val.shape"
   ]
  },
  {
   "cell_type": "code",
   "execution_count": 36,
   "metadata": {},
   "outputs": [
    {
     "data": {
      "text/plain": [
       "(10662, 384)"
      ]
     },
     "execution_count": 36,
     "metadata": {},
     "output_type": "execute_result"
    }
   ],
   "source": [
    "cnn_output_val[0].shape"
   ]
  },
  {
   "cell_type": "code",
   "execution_count": 37,
   "metadata": {
    "collapsed": true
   },
   "outputs": [],
   "source": [
    "cnn_output_val = cnn_output_val[0]"
   ]
  },
  {
   "cell_type": "code",
   "execution_count": 38,
   "metadata": {},
   "outputs": [
    {
     "data": {
      "text/plain": [
       "(10662, 384)"
      ]
     },
     "execution_count": 38,
     "metadata": {},
     "output_type": "execute_result"
    }
   ],
   "source": [
    "cnn_output_val.shape"
   ]
  },
  {
   "cell_type": "code",
   "execution_count": 39,
   "metadata": {
    "collapsed": true
   },
   "outputs": [],
   "source": [
    "# model_inputs = h_pool_flat\n",
    "model_inputs = tf.placeholder(dtype=tf.float32, shape=[None, 384])\n",
    "labels = tf.placeholder(dtype=tf.float32, shape=[None, 2])\n",
    "\n",
    "W = tf.Variable(tf.random_normal([384, 2], stddev=0.01))\n",
    "b = tf.Variable(tf.random_normal([2], stddev=0.01))\n",
    "                                                       \n",
    "logits = tf.matmul(model_inputs, W) + b\n",
    "predictions = tf.nn.softmax(logits)"
   ]
  },
  {
   "cell_type": "code",
   "execution_count": 46,
   "metadata": {},
   "outputs": [
    {
     "data": {
      "text/plain": [
       "<tf.Tensor 'Placeholder_5:0' shape=(?, 2) dtype=float32>"
      ]
     },
     "execution_count": 46,
     "metadata": {},
     "output_type": "execute_result"
    }
   ],
   "source": [
    "labels"
   ]
  },
  {
   "cell_type": "code",
   "execution_count": 40,
   "metadata": {
    "collapsed": true
   },
   "outputs": [],
   "source": [
    "loss = tf.losses.softmax_cross_entropy(\n",
    "    onehot_labels=labels,\n",
    "    logits=predictions)\n",
    "\n",
    "dense_predictions = tf.argmax(predictions, axis=1)\n",
    "dense_labels = tf.argmax(labels, axis=1)\n",
    "equals = tf.cast(tf.equal(dense_predictions, dense_labels), tf.float32)\n",
    "acc = tf.reduce_mean(equals)\n",
    "\n",
    "optimizer = tf.train.GradientDescentOptimizer(learning_rate=0.01)\n",
    "train_op = optimizer.minimize(loss)"
   ]
  },
  {
   "cell_type": "code",
   "execution_count": 66,
   "metadata": {},
   "outputs": [],
   "source": [
    "y_data2 = list(y_data)"
   ]
  },
  {
   "cell_type": "code",
   "execution_count": 64,
   "metadata": {},
   "outputs": [],
   "source": [
    "y_data2[0] = [0, 1]"
   ]
  },
  {
   "cell_type": "code",
   "execution_count": 69,
   "metadata": {},
   "outputs": [
    {
     "data": {
      "text/plain": [
       "[1, 1, 1, 1, 1]"
      ]
     },
     "execution_count": 69,
     "metadata": {},
     "output_type": "execute_result"
    }
   ],
   "source": [
    "y_data2[:5]"
   ]
  },
  {
   "cell_type": "code",
   "execution_count": 75,
   "metadata": {},
   "outputs": [],
   "source": [
    "y_test = []\n",
    "for idx, i in enumerate(y_data2):\n",
    "    if i == 1:\n",
    "        y_test.append([0, 1])\n",
    "    else:\n",
    "        y_test.append([1, 0])"
   ]
  },
  {
   "cell_type": "code",
   "execution_count": 89,
   "metadata": {},
   "outputs": [
    {
     "name": "stdout",
     "output_type": "stream",
     "text": [
      "Full Evaluation Accuracy : 0.5050318920612336\n"
     ]
    }
   ],
   "source": [
    "saver = tf.train.Saver()\n",
    "with tf.Session() as sess:\n",
    "    final_acc = 0.0\n",
    "    sess.run(tf.global_variables_initializer())\n",
    "    \n",
    "    for step in range(100):\n",
    "        feed = {model_inputs: cnn_output_val, labels: y_test}\n",
    "        _, acc_val = sess.run([train_op, acc], feed_dict=feed)\n",
    "        final_acc += acc_val\n",
    "        \n",
    "    final_acc /= 100\n",
    "    print (\"Full Evaluation Accuracy : {}\".format(final_acc))"
   ]
  },
  {
   "cell_type": "code",
   "execution_count": 44,
   "metadata": {},
   "outputs": [
    {
     "data": {
      "text/plain": [
       "(10662, 384)"
      ]
     },
     "execution_count": 44,
     "metadata": {},
     "output_type": "execute_result"
    }
   ],
   "source": [
    "cnn_output_val.shape"
   ]
  },
  {
   "cell_type": "code",
   "execution_count": null,
   "metadata": {
    "collapsed": true
   },
   "outputs": [],
   "source": []
  }
 ],
 "metadata": {
  "kernelspec": {
   "display_name": "Python 3",
   "language": "python",
   "name": "python3"
  },
  "language_info": {
   "codemirror_mode": {
    "name": "ipython",
    "version": 3
   },
   "file_extension": ".py",
   "mimetype": "text/x-python",
   "name": "python",
   "nbconvert_exporter": "python",
   "pygments_lexer": "ipython3",
   "version": "3.5.2"
  }
 },
 "nbformat": 4,
 "nbformat_minor": 2
}
