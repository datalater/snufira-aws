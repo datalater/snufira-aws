{
 "cells": [
  {
   "cell_type": "markdown",
   "metadata": {},
   "source": [
    "## vcoabuarly 만들기"
   ]
  },
  {
   "cell_type": "code",
   "execution_count": 6,
   "metadata": {},
   "outputs": [
    {
     "name": "stdout",
     "output_type": "stream",
     "text": [
      "500188\n",
      "[('He', 673998), ('The', 640934), ('said', 615681), ('She', 463896), ('would', 366837), ('back', 365738), ('one', 358634), ('like', 353855), ('could', 345128), ('It', 289836), ('know', 268834), ('You', 244781), ('eyes', 241675), ('And', 232197), ('But', 222899), ('time', 222713), ('didnt', 219388), ('get', 188022), ('around', 187870), ('way', 185794), ('head', 183696), ('Im', 181330), ('looked', 180578), ('see', 178171), ('going', 166375), ('hand', 165042), ('even', 163081), ('away', 161169), ('us', 158463), ('think', 157051), ('dont', 156430), ('right', 155481), ('face', 149820), ('still', 148025), ('asked', 146455), ('thought', 144511), ('What', 142710), ('want', 142677), ('go', 142576), ('They', 141863), ('something', 138943), ('made', 135128), ('His', 133491), ('never', 133176), ('man', 130641), ('much', 129293), ('little', 126789), ('knew', 124890), ('No', 122911), ('We', 122225)]\n",
      "221364\n"
     ]
    }
   ],
   "source": [
    "data_path = \"../data/books_txt_full/Fantasy\"\n",
    "\n",
    "from string import punctuation\n",
    "from os import listdir\n",
    "from collections import Counter\n",
    "from nltk.corpus import stopwords\n",
    "\n",
    "# 텍스트 파일의 내용을 변수 text로 리턴하는 함수\n",
    "def load_doc(filename):\n",
    "    # read only로 파일을 엽니다.\n",
    "    file = open(filename, 'r', errors='replace')\n",
    "    # 모든 텍스트를 읽습니다.\n",
    "    text = file.read()\n",
    "    # 파일을 닫습니다.\n",
    "    file.close()\n",
    "    return text\n",
    "\n",
    "def clean_doc(doc):\n",
    "    # white space 기준으로 tokenize 합니다.\n",
    "    tokens = doc.split()\n",
    "    # 각 token에서 모든 구두점을 삭제합니다.\n",
    "    table = str.maketrans('', '', punctuation)\n",
    "    tokens = [w.translate(table) for w in tokens]\n",
    "    # 각 token에서 alaphabet으로만 이루어지지 않은 모든 단어를 삭제합니다.\n",
    "    tokens = [word for word in tokens if word.isalpha()]\n",
    "    # 각 token에서 stopwrods를 삭제합니다.\n",
    "    stop_words = set(stopwords.words('english'))\n",
    "    tokens = [w for w in tokens if not w in stop_words]\n",
    "    # 각 token에서 1글자 이하인 모든 단어를 삭제합니다.\n",
    "    tokens = [word for word in tokens if len(word) > 1]\n",
    "    return tokens\n",
    "\n",
    "# 텍스트 파일을 불러와서 vocab에 추가하는 함수\n",
    "def add_doc_to_vocab(filename, vocab):\n",
    "    # 텍스트 파일을 불러옵니다.\n",
    "    doc = load_doc(filename)\n",
    "    # 텍스트 파일을 clean toekn으로 리턴합니다.\n",
    "    tokens = clean_doc(doc)\n",
    "    # clean token을 vocab에 추가합니다.\n",
    "    vocab.update(tokens)\n",
    "\n",
    "# 폴더에 있는 모든 문서를 vocab에 추가하는 함수\n",
    "def process_docs(directory, vocab, is_train):\n",
    "    # 폴더에 있는 모든 파일을 순회합니다.\n",
    "    for filename in listdir(directory):\n",
    "        # 인덱스가 새겨진 파일 이름과 is_train 인자를 기준으로 test set으로 분류할 모든 파일을 건너뜁니다.\n",
    "        if is_train and filename.startswith('cv9'):\n",
    "            continue\n",
    "        if not is_train and not filename.startswith('cv9'):\n",
    "            continue\n",
    "        # 폴더에 있는 파일의 절대 경로를 구합니다.\n",
    "        path = directory + '/' + filename\n",
    "        # 텍스트 파일을 불러와서 vocab에 추가하는 함수를 실행합니다.\n",
    "        add_doc_to_vocab(path, vocab)\n",
    "    \n",
    "def save_list(lines, filename):\n",
    "    # 각 문장을 하나의 텍스트 일부로 바꿉니다.\n",
    "    data = '\\n'.join(lines)\n",
    "    # 파일을 쓰기 모드로 엽니다.\n",
    "    file = open(filename, 'w')\n",
    "    # 변환한 텍스트를 파일에 씁니다.\n",
    "    file.write(data)\n",
    "    # 파일을 닫습니다.\n",
    "    file.close()\n",
    "    \n",
    "# vocab을 Counter() 객체로 할당합니다.\n",
    "vocab = Counter()\n",
    "# 폴더를 지정하고 폴더 내 모든 문서를 vocab에 추가합니다.\n",
    "process_docs(data_path, vocab, True)\n",
    "# vocab의 크기를 출력합니다.\n",
    "print(len(vocab))\n",
    "# vocab에서 가장 많이 등장한 50개 단어를 출력합니다.\n",
    "print(vocab.most_common(50))\n",
    "\n",
    "# token을 min_occurence 기준으로 유지합니다.\n",
    "min_occurence = 2\n",
    "tokens = [k for k,c in vocab.items() if c >= min_occurence]\n",
    "print(len(tokens))\n",
    "# token을 vocab 파일로 저장합니다.\n",
    "save_list(tokens, 'fantasy_vocab.txt')"
   ]
  },
  {
   "cell_type": "markdown",
   "metadata": {},
   "source": [
    "## Word2Vec 만들기"
   ]
  },
  {
   "cell_type": "code",
   "execution_count": 7,
   "metadata": {},
   "outputs": [
    {
     "name": "stdout",
     "output_type": "stream",
     "text": [
      "Total training sentences: 7553656\n",
      "Vocabulary size: 221364\n"
     ]
    }
   ],
   "source": [
    "from string import punctuation\n",
    "from os import listdir\n",
    "from gensim.models import Word2Vec\n",
    "\n",
    "# 텍스트 파일의 내용을 변수 text로 리턴하는 함수\n",
    "def load_doc(filename):\n",
    "    # read only로 파일을 엽니다.\n",
    "    file = open(filename, 'r', errors='replace')\n",
    "    # 모든 텍스트를 읽습니다.\n",
    "    text = file.read()\n",
    "    # 파일을 닫습니다.\n",
    "    file.close()\n",
    "    return text\n",
    "\n",
    "\n",
    "# 문서를 cleaned lines(=tokens)으로 리턴합니다.\n",
    "# tokens = line, token = word\n",
    "def doc_to_clean_lines(doc, vocab):\n",
    "    clean_lines = []\n",
    "    lines = doc.splitlines()\n",
    "    for line in lines:\n",
    "        # 공백 기준으로 token을 나눕니다.\n",
    "        tokens = line.split()\n",
    "        # 구두점 제거\n",
    "        table = str.maketrans('', '', punctuation)\n",
    "        tokens = [w.translate(table) for w in tokens]\n",
    "        # vocab에 있는 단어만 추출합니다.\n",
    "        tokens = [w for w in tokens if w in vocab]\n",
    "        clean_lines.append(tokens)\n",
    "    return clean_lines\n",
    "\n",
    "\n",
    "# 폴더에 있는 모든 문서를 vocab에 추가하는 함수\n",
    "def process_docs(directory, vocab, is_train):\n",
    "    lines = list()\n",
    "    # 폴더에 있는 모든 파일을 순회합니다.\n",
    "    for filename in listdir(directory):\n",
    "        # 인덱스가 새겨진 파일 이름과 is_train 인자를 기준으로 test set으로 분류할 모든 파일을 건너뜁니다.\n",
    "        if is_train and filename.startswith('cv9'):\n",
    "            continue\n",
    "        if not is_train and not filename.startswith('cv9'):\n",
    "            continue\n",
    "        # 폴더에 있는 파일의 절대 경로를 구합니다.\n",
    "        path = directory + '/' + filename\n",
    "        # 파일을 불러옵니다.\n",
    "        doc = load_doc(path)\n",
    "        # 파일을 개끗하게 만들어서 token으로 리턴합니다.\n",
    "        doc_lines = doc_to_clean_lines(doc, vocab)\n",
    "        # 리스트 객체에 추가합니다.\n",
    "        lines += doc_lines\n",
    "    return lines\n",
    "\n",
    "# 보카를 불러옵니다.\n",
    "vocab_filename = 'fantasy_vocab.txt'\n",
    "vocab = load_doc(vocab_filename)\n",
    "vocab = vocab.split()\n",
    "vocab = set(vocab)\n",
    "\n",
    "# 모든 training set을 불러옵니다.\n",
    "train_docs = process_docs(data_path, vocab, True)\n",
    "sentences = train_docs\n",
    "print('Total training sentences: %d' % len(sentences))\n",
    "\n",
    "# word2vec 모델을 훈련시킵니다.\n",
    "model = Word2Vec(sentences, size=100, window=5, workers=8, min_count=1)\n",
    "# 모델의 vocabulary size를 요약합니다.\n",
    "words = list(model.wv.vocab)\n",
    "print(\"Vocabulary size: %d\" % len(words))\n",
    "\n",
    "# 모델을 ASCII 포맷으로 저장합니다.\n",
    "filename = 'fantasy_embedding_word2vec.txt'\n",
    "model.wv.save_word2vec_format(filename, binary=False)"
   ]
  },
  {
   "cell_type": "markdown",
   "metadata": {},
   "source": [
    "## Pre-trained Word2vec 사용하기"
   ]
  },
  {
   "cell_type": "code",
   "execution_count": null,
   "metadata": {
    "collapsed": true
   },
   "outputs": [],
   "source": []
  }
 ],
 "metadata": {
  "kernelspec": {
   "display_name": "Python 3",
   "language": "python",
   "name": "python3"
  },
  "language_info": {
   "codemirror_mode": {
    "name": "ipython",
    "version": 3
   },
   "file_extension": ".py",
   "mimetype": "text/x-python",
   "name": "python",
   "nbconvert_exporter": "python",
   "pygments_lexer": "ipython3",
   "version": "3.5.2"
  }
 },
 "nbformat": 4,
 "nbformat_minor": 2
}
