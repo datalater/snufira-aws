{
 "cells": [
  {
   "cell_type": "code",
   "execution_count": null,
   "metadata": {
    "collapsed": true
   },
   "outputs": [],
   "source": [
    "def inference(embedding):\n",
    "    \"\"\"Build the Skip-CNN model.\n",
    "    \n",
    "  Args:    embedding\n",
    "  Returns:    cnn_output\n",
    "    \n",
    "  \"\"\"\n",
    "    \n",
    "    #convolution layer\n",
    "    \n",
    "    filter_sizes = [3, 4, 5]\n",
    "    num_filters = 128\n",
    "\n",
    "    pooled_outputs = []\n",
    "    for i, filter_size in enumerate(filter_sizes):\n",
    "        with tf.name_scope(\"conv-maxpool-%s\" % filter_size):\n",
    "            # Convolution Layer\n",
    "            filter_shape = [filter_size, embedding_size, 1, num_filters]\n",
    "            W = tf.Variable(tf.truncated_normal(filter_shape, stddev=0.1), name=\"W\")\n",
    "            b = tf.Variable(tf.constant(0.1, shape=[num_filters]), name=\"b\")\n",
    "            conv = tf.nn.conv2d(\n",
    "                embedded_chars_expanded,\n",
    "                W,\n",
    "                strides=[1, 1, 1, 1],\n",
    "                padding=\"VALID\",\n",
    "                name=\"conv\")\n",
    "            # Apply nonlinearity\n",
    "            h = tf.nn.relu(tf.nn.bias_add(conv, b), name=\"relu\")\n",
    "            # Max-pooling over the outputs\n",
    "            pooled = tf.nn.max_pool(\n",
    "                h,\n",
    "                ksize=[1, sequence_length - filter_size + 1, 1, 1],\n",
    "                strides=[1, 1, 1, 1],\n",
    "                padding='VALID',\n",
    "                name=\"pool\")\n",
    "            pooled_outputs.append(pooled)\n",
    "\n",
    "    num_filters_total = num_filters * len(filter_sizes)\n",
    "    h_pool = tf.concat( pooled_outputs, 3)\n",
    "    h_pool_flat = tf.reshape(h_pool, [-1, num_filters_total])\n",
    "\n",
    "    return h_pool_flat\n",
    "\n",
    "    "
   ]
  },
  {
   "cell_type": "code",
   "execution_count": null,
   "metadata": {
    "collapsed": true
   },
   "outputs": [],
   "source": [
    "from tensorflow.python.framework import ops\n",
    "from tensorflow.python.ops import math_ops\n",
    "\n",
    "def cos_s(v1,v2):\n",
    "    \"compute cosine similarity of v1 to v2: (v1 dot v2)/{||v1||*||v2||)\"\n",
    "    sumxx, sumxy, sumyy = 0, 0, 0\n",
    "    for i in range(384):\n",
    "        x = v1[i]; y = v2[i]\n",
    "        sumxx += x*x\n",
    "        sumyy += y*y\n",
    "        sumxy += x*y\n",
    "    return sumxy/math.sqrt(sumxx*sumyy)\n",
    "\n",
    "def loss(cnn_output):\n",
    "    \"\"\"Side cosine_similarity - Center cosine_similarity\n",
    "  \n",
    "  Args:\n",
    "    logits: cnn_output ( sentence_number * 384 : 3 kernel * 128 kernel number )\n",
    "    \n",
    "  Returns:\n",
    "    Loss tensor of type float.\n",
    "  \"\"\"\n",
    "    unstack_cnn_output = tf.unstack(cnn_output, axis=0)\n",
    "    unstack_fin = session.run(unstack_cnn_output)\n",
    "    \n",
    "    newinput=[]\n",
    "    cos_s_sum = 0\n",
    "    \n",
    "    num_sentense = len(unstack_fin)\n",
    "    \n",
    "    for si in range(num_sentense - 3):\n",
    "        for ssi in range(si, num_sentense - 2):\n",
    "            if not si == ssi:\n",
    "                calc = (cos_s(unstack_fin[si], unstack_fin[ssi]) + cos_s(unstack_fin[si+2], unstack_fin[ssi+2]))/2 - cos_s(unstack_fin[si+1], unstack_fin[ssi+1])\n",
    "                newinput.append(calc)\n",
    "                cos_s_sum += calc\n",
    "    \n",
    "    return tf.convert_to_tensor(cos_s_sum)\n",
    "    "
   ]
  },
  {
   "cell_type": "code",
   "execution_count": null,
   "metadata": {
    "collapsed": true
   },
   "outputs": [],
   "source": [
    "logits = inference(embedding)\n",
    "loss = loss(cnn_output)\n",
    "train_op = train(loss, global_step)"
   ]
  }
 ],
 "metadata": {
  "kernelspec": {
   "display_name": "Python 3",
   "language": "python",
   "name": "python3"
  },
  "language_info": {
   "codemirror_mode": {
    "name": "ipython",
    "version": 3
   },
   "file_extension": ".py",
   "mimetype": "text/x-python",
   "name": "python",
   "nbconvert_exporter": "python",
   "pygments_lexer": "ipython3",
   "version": "3.5.2"
  }
 },
 "nbformat": 4,
 "nbformat_minor": 2
}
